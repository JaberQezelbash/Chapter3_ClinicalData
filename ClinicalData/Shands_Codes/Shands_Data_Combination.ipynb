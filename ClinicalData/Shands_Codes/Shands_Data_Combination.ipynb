{
 "cells": [
  {
   "cell_type": "code",
   "execution_count": 1,
   "id": "1ace122a-9abc-4682-a0fa-54e2f8558468",
   "metadata": {},
   "outputs": [
    {
     "name": "stdout",
     "output_type": "stream",
     "text": [
      "Datasets successfully combined and saved.\n"
     ]
    }
   ],
   "source": [
    "import pandas as pd\n",
    "\n",
    "# Load the first dataset\n",
    "file1 = r\"C:\\Users\\Jaber\\OneDrive - University of Florida\\Educational\\Chapters\\Chapter3_ClinicalData\\Datasets\\Shands\\Shands_CombinedBPM.csv\"\n",
    "df1 = pd.read_csv(file1)\n",
    "\n",
    "# Load the second dataset\n",
    "file2 = r\"C:\\Users\\Jaber\\OneDrive - University of Florida\\Educational\\Chapters\\Chapter3_ClinicalData\\Datasets\\Shands\\Shands_ClinicalDemographics_Preprocessed.csv\"\n",
    "df2 = pd.read_csv(file2)\n",
    "\n",
    "# Ensure that both datasets have the same first column as the identifier (Sample names)\n",
    "df1.set_index(df1.columns[0], inplace=True)\n",
    "df2.set_index(df2.columns[0], inplace=True)\n",
    "\n",
    "# Remove the \"label\" column from df1 to ensure it can be appended at the end\n",
    "label_column = df1.pop('label')\n",
    "\n",
    "# Concatenate the two datasets along the columns (axis=1)\n",
    "df_combined = pd.concat([df1, df2], axis=1)\n",
    "\n",
    "# Add the \"label\" column as the last column\n",
    "df_combined['label'] = label_column\n",
    "\n",
    "# Reset the index to have Sample names as the first column\n",
    "df_combined.reset_index(inplace=True)\n",
    "\n",
    "# Save the final combined dataset to a CSV file\n",
    "output_file = r\"C:\\Users\\Jaber\\OneDrive - University of Florida\\Educational\\Chapters\\Chapter3_ClinicalData\\Datasets\\Shands\\Shands_Combined_Final.csv\"\n",
    "df_combined.to_csv(output_file, index=False)\n",
    "\n",
    "print(\"Datasets successfully combined and saved.\")\n"
   ]
  },
  {
   "cell_type": "code",
   "execution_count": 2,
   "id": "23ad57c5-2b53-4425-8a4e-3df7b5f6f945",
   "metadata": {},
   "outputs": [
    {
     "name": "stdout",
     "output_type": "stream",
     "text": [
      "The last 50 column names are:\n",
      "Index(['141556', '141557', '141558', '141559', '141560', '141561', '141562',\n",
      "       '141563', '141564', '141565', '141566', '141567', '141568', '141569',\n",
      "       'Gestational age (GA)', 'Birthweight percentile for GA', 'Neonate sex',\n",
      "       'Maternal age', 'Number of prior deliveries at >20 weeks gestations',\n",
      "       'Race/ethnicity', 'Chronic hypertension', 'Type 1 diabetes mellitus',\n",
      "       'Type 2 diabetes mellitus', 'GHTN/Preeclampsia', 'Gestational diabetes',\n",
      "       'Tobacco use', 'Alcohol use', 'Illicit drug use',\n",
      "       'Did patient require augmentation with pitocin?',\n",
      "       'Indication for IOL - maternal hypertension',\n",
      "       'Indication for IOL - maternal diabetes',\n",
      "       'Indication for IOL - late or post-term gestation',\n",
      "       'Indication for IOL - fetal growth restriction',\n",
      "       'Indication for IOL - oligohydramnios', 'Indication for IOL - NRFHT',\n",
      "       'Indication for IOL - PROM', 'Indication for IOL - ICP',\n",
      "       'Indication for IOL - elective',\n",
      "       'What was the maximum dose of pitocin?',\n",
      "       'How long was the maximum dose administered? (hours)',\n",
      "       'Maximum maternal systolic blood pressure (mmHg)',\n",
      "       'Minimum maternal systolic blood pressure (mmHg)',\n",
      "       'Maximum maternal diastolic blood pressure (mmHg)',\n",
      "       'Minimum maternal diastolic blood pressure (mmHg)',\n",
      "       'Maximum maternal temperature (Celsius)',\n",
      "       'Minimum maternal temperature (Celsius)', 'Meconium-stained fluid',\n",
      "       'Chorioamnionitis', 'Clinical presentation', 'label'],\n",
      "      dtype='object')\n"
     ]
    }
   ],
   "source": [
    "import pandas as pd\n",
    "\n",
    "# Load the combined dataset\n",
    "file_path = r\"C:\\Users\\Jaber\\OneDrive - University of Florida\\Educational\\Chapters\\Chapter3_ClinicalData\\Datasets\\Shands\\Shands_Combined_Final.csv\"\n",
    "df = pd.read_csv(file_path)\n",
    "\n",
    "# Get the names of the last 50 columns\n",
    "last_50_columns = df.columns[-50:]\n",
    "\n",
    "# Display the names of the last 50 columns\n",
    "print(\"The last 50 column names are:\")\n",
    "print(last_50_columns)\n"
   ]
  },
  {
   "cell_type": "code",
   "execution_count": null,
   "id": "bf24d2e8-7ac9-46bb-bc7c-e0075bfd5926",
   "metadata": {},
   "outputs": [],
   "source": []
  }
 ],
 "metadata": {
  "kernelspec": {
   "display_name": "Python 3 (ipykernel)",
   "language": "python",
   "name": "python3"
  },
  "language_info": {
   "codemirror_mode": {
    "name": "ipython",
    "version": 3
   },
   "file_extension": ".py",
   "mimetype": "text/x-python",
   "name": "python",
   "nbconvert_exporter": "python",
   "pygments_lexer": "ipython3",
   "version": "3.11.7"
  }
 },
 "nbformat": 4,
 "nbformat_minor": 5
}
